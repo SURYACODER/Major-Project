{
 "cells": [
  {
   "attachments": {},
   "cell_type": "markdown",
   "metadata": {},
   "source": [
    "# 2. Model Train"
   ]
  },
  {
   "cell_type": "markdown",
   "metadata": {},
   "source": [
    "## Model ResNet50"
   ]
  },
  {
   "cell_type": "markdown",
   "metadata": {},
   "source": [
    "### Import libraries"
   ]
  },
  {
   "cell_type": "code",
   "execution_count": 59,
   "metadata": {},
   "outputs": [],
   "source": [
    "import os\n",
    "import timeit\n",
    "\n",
    "import matplotlib.pyplot as plt\n",
    "import numpy as np\n",
    "import seaborn as sns\n",
    "import tensorflow as tf\n",
    "from sklearn.metrics import (accuracy_score, balanced_accuracy_score,\n",
    "                             classification_report, confusion_matrix)\n",
    "from sklearn.utils.class_weight import compute_class_weight"
   ]
  },
  {
   "cell_type": "code",
   "execution_count": 60,
   "metadata": {},
   "outputs": [],
   "source": [
    "np.random.seed(12049)"
   ]
  },
  {
   "cell_type": "code",
   "execution_count": 61,
   "metadata": {},
   "outputs": [],
   "source": [
    "def get_plot_loss_acc(model, model_name):\n",
    "    fig = plt.figure()\n",
    "    plt.subplot(2, 1, 1)\n",
    "    plt.plot(model.history.history[\"loss\"])\n",
    "    plt.plot(model.history.history[\"val_loss\"])\n",
    "    plt.title(f\"{model_name} \\n\\n model loss\")\n",
    "    plt.ylabel(\"loss\")\n",
    "    plt.xlabel(\"epoch\")\n",
    "    plt.legend([\"train\", \"valid\"], loc=\"upper right\")\n",
    "\n",
    "    plt.subplot(2, 1, 2)\n",
    "    plt.plot(model.history.history[\"accuracy\"])\n",
    "    plt.plot(model.history.history[\"val_accuracy\"])\n",
    "    plt.title(\"model accuracy\")\n",
    "    plt.ylabel(\"accuracy\")\n",
    "    plt.xlabel(\"epoch\")\n",
    "    plt.legend([\"train\", \"valid\"], loc=\"lower right\")\n",
    "\n",
    "    plt.tight_layout()\n",
    "\n",
    "\n",
    "def compute_confusion_matrix(\n",
    "    ytrue, ypred, class_names, model_name\n",
    "):\n",
    "    cm = confusion_matrix(\n",
    "        y_true=ytrue.labels,\n",
    "        y_pred=np.argmax(ypred, axis=1),\n",
    "    )\n",
    "\n",
    "    cmn = cm.astype(\"float\") / cm.sum(axis=1)[:, np.newaxis]\n",
    "    plt.subplots(figsize=(6, 5))\n",
    "    sns.heatmap(\n",
    "        cmn,\n",
    "        annot=True,\n",
    "        fmt=\".2f\",\n",
    "        cmap=\"Purples\",\n",
    "        xticklabels=class_names,\n",
    "        yticklabels=class_names,\n",
    "    )\n",
    "    plt.title(f\"Confusion Matrix - {model_name}\")\n",
    "    plt.ylabel(\"Actual\")\n",
    "    plt.xlabel(\"Predicted\")\n",
    "    plt.show(block=False)\n",
    "\n",
    "\n",
    "def get_evaluate(data, name, model):\n",
    "    score_model = model.evaluate(data, verbose=1)\n",
    "    print(f\"{name} loss: {score_model[0]:.2f}\")\n",
    "    print(f\"{name} accuracy: {score_model[1]:.2f}\")\n",
    "\n",
    "\n",
    "def get_predict(data, model):\n",
    "    predict_model = model.predict(data)\n",
    "    return predict_model\n",
    "\n",
    "\n",
    "def get_metrics(y_test, y_pred, model_name):\n",
    "    acc = accuracy_score(y_test, y_pred)\n",
    "    bal_acc = balanced_accuracy_score(y_test, y_pred)\n",
    "\n",
    "    print(f\"Accuracy Score - {model_name}: {acc:.2f}\")\n",
    "    print(f\"Balanced Accuracy Score - {model_name}: {bal_acc:.2f}\")\n",
    "    print(\"\\n\")\n",
    "\n",
    "    print(classification_report(y_test, y_pred))"
   ]
  },
  {
   "cell_type": "markdown",
   "metadata": {},
   "source": [
    "### Load data"
   ]
  },
  {
   "cell_type": "code",
   "execution_count": 62,
   "metadata": {},
   "outputs": [],
   "source": [
    "base_dir = \"../dataset/\"\n",
    "train_path = os.path.join(base_dir, 'train')\n",
    "valid_path = os.path.join(base_dir, 'val')\n",
    "test_path = os.path.join(base_dir, 'test')"
   ]
  },
  {
   "attachments": {},
   "cell_type": "markdown",
   "metadata": {},
   "source": [
    "### Definitions"
   ]
  },
  {
   "cell_type": "code",
   "execution_count": 63,
   "metadata": {},
   "outputs": [],
   "source": [
    "model_name = \"ResNet50\"\n",
    "class_names = ['Healthy', 'Doubtful', 'Minimal', 'Moderate', 'Severe']\n",
    "\n",
    "target_size = (224, 224)\n",
    "epochs = 100\n",
    "batch_size = 256\n",
    "img_shape = (224, 224, 3)\n",
    "\n",
    "# Save model\n",
    "save_model_ft = os.path.join('models', f'model_{model_name}_ft.hdf5')"
   ]
  },
  {
   "cell_type": "markdown",
   "metadata": {},
   "source": [
    "### Image data generator"
   ]
  },
  {
   "cell_type": "code",
   "execution_count": 64,
   "metadata": {},
   "outputs": [],
   "source": [
    "aug_datagen = tf.keras.preprocessing.image.ImageDataGenerator(\n",
    "    preprocessing_function=tf.keras.applications.resnet50.preprocess_input,\n",
    "    horizontal_flip=True,\n",
    "    brightness_range=[0.3, 0.8],\n",
    "    width_shift_range=[-50, 0, 50, 30, -30],\n",
    "    zoom_range=0.1,\n",
    "    fill_mode=\"nearest\",\n",
    ")\n",
    "\n",
    "noaug_datagen = tf.keras.preprocessing.image.ImageDataGenerator(\n",
    "    preprocessing_function=tf.keras.applications.resnet50.preprocess_input,\n",
    ")"
   ]
  },
  {
   "cell_type": "code",
   "execution_count": 65,
   "metadata": {},
   "outputs": [
    {
     "name": "stdout",
     "output_type": "stream",
     "text": [
      "Found 5778 images belonging to 5 classes.\n",
      "Found 826 images belonging to 5 classes.\n"
     ]
    }
   ],
   "source": [
    "train_generator = aug_datagen.flow_from_directory(\n",
    "    train_path, class_mode=\"categorical\", target_size=target_size, shuffle=True\n",
    ")\n",
    "\n",
    "valid_generator = noaug_datagen.flow_from_directory(\n",
    "    valid_path,\n",
    "    class_mode=\"categorical\",\n",
    "    target_size=target_size,\n",
    "    shuffle=False,\n",
    ")"
   ]
  },
  {
   "cell_type": "code",
   "execution_count": 66,
   "metadata": {},
   "outputs": [],
   "source": [
    "y_train = train_generator.labels\n",
    "y_val = valid_generator.labels"
   ]
  },
  {
   "attachments": {},
   "cell_type": "markdown",
   "metadata": {},
   "source": [
    "### Weight data"
   ]
  },
  {
   "cell_type": "code",
   "execution_count": 67,
   "metadata": {},
   "outputs": [
    {
     "name": "stdout",
     "output_type": "stream",
     "text": [
      "Train:  {0: 2286, 1: 1046, 2: 1516, 3: 757, 4: 173}\n",
      "{0: 0.5055118110236221, 1: 1.1047801147227534, 2: 0.7622691292875989, 3: 1.5265521796565389, 4: 6.679768786127168}\n"
     ]
    }
   ],
   "source": [
    "unique, counts = np.unique(y_train, return_counts=True)\n",
    "print(\"Train: \", dict(zip(unique, counts)))\n",
    "\n",
    "class_weights = compute_class_weight(\n",
    "    class_weight=\"balanced\", classes=np.unique(y_train), y=y_train\n",
    ")\n",
    "train_class_weights = dict(enumerate(class_weights))\n",
    "print(train_class_weights)"
   ]
  },
  {
   "cell_type": "markdown",
   "metadata": {},
   "source": [
    "### Train data"
   ]
  },
  {
   "cell_type": "code",
   "execution_count": 68,
   "metadata": {},
   "outputs": [],
   "source": [
    "classes = np.unique(y_train)\n",
    "\n",
    "# Callbacks\n",
    "early = tf.keras.callbacks.EarlyStopping(\n",
    "            monitor='val_loss', min_delta=0.01, patience=8,\n",
    "            restore_best_weights=True\n",
    "        )\n",
    "plateau = tf.keras.callbacks.ReduceLROnPlateau(\n",
    "                monitor='loss', factor=0.1, min_delta=0.01, \n",
    "                min_lr=1e-10, patience=4, mode='auto'\n",
    "            )"
   ]
  },
  {
   "cell_type": "code",
   "execution_count": 69,
   "metadata": {},
   "outputs": [],
   "source": [
    "model = tf.keras.applications.ResNet50(\n",
    "    input_shape=(img_shape),\n",
    "    include_top=False,\n",
    "    weights=\"imagenet\",\n",
    ")"
   ]
  },
  {
   "cell_type": "markdown",
   "metadata": {},
   "source": [
    "### Fine-tuning"
   ]
  },
  {
   "cell_type": "code",
   "execution_count": 70,
   "metadata": {},
   "outputs": [
    {
     "name": "stdout",
     "output_type": "stream",
     "text": [
      "Model: \"sequential_3\"\n",
      "_________________________________________________________________\n",
      " Layer (type)                Output Shape              Param #   \n",
      "=================================================================\n",
      " resnet50 (Functional)       (None, 7, 7, 2048)        23587712  \n",
      "                                                                 \n",
      " global_average_pooling2d_3   (None, 2048)             0         \n",
      " (GlobalAveragePooling2D)                                        \n",
      "                                                                 \n",
      " dropout_3 (Dropout)         (None, 2048)              0         \n",
      "                                                                 \n",
      " dense_3 (Dense)             (None, 5)                 10245     \n",
      "                                                                 \n",
      "=================================================================\n",
      "Total params: 23,597,957\n",
      "Trainable params: 23,544,837\n",
      "Non-trainable params: 53,120\n",
      "_________________________________________________________________\n"
     ]
    }
   ],
   "source": [
    "for layer in model.layers:\n",
    "    layer.trainable = True\n",
    "\n",
    "model_ft = tf.keras.models.Sequential(\n",
    "    [\n",
    "        model,\n",
    "        tf.keras.layers.GlobalAveragePooling2D(),\n",
    "        tf.keras.layers.Dropout(0.2),\n",
    "        tf.keras.layers.Dense(5, activation=\"softmax\"),\n",
    "    ]\n",
    ")\n",
    "\n",
    "model_ft.summary()"
   ]
  },
  {
   "cell_type": "code",
   "execution_count": 71,
   "metadata": {},
   "outputs": [
    {
     "name": "stdout",
     "output_type": "stream",
     "text": [
      "Epoch 1/100\n"
     ]
    },
    {
     "name": "stderr",
     "output_type": "stream",
     "text": [
      "2022-12-29 08:19:41.967730: I tensorflow/core/grappler/optimizers/custom_graph_optimizer_registry.cc:114] Plugin optimizer for device_type GPU is enabled.\n"
     ]
    },
    {
     "name": "stdout",
     "output_type": "stream",
     "text": [
      "181/181 [==============================] - ETA: 0s - loss: 1.9019 - accuracy: 0.1873"
     ]
    },
    {
     "name": "stderr",
     "output_type": "stream",
     "text": [
      "2022-12-29 08:21:12.623971: I tensorflow/core/grappler/optimizers/custom_graph_optimizer_registry.cc:114] Plugin optimizer for device_type GPU is enabled.\n"
     ]
    },
    {
     "name": "stdout",
     "output_type": "stream",
     "text": [
      "181/181 [==============================] - 100s 517ms/step - loss: 1.9019 - accuracy: 0.1873 - val_loss: 4.3554 - val_accuracy: 0.0908 - lr: 0.0010\n",
      "Epoch 2/100\n",
      "181/181 [==============================] - 88s 485ms/step - loss: 1.7002 - accuracy: 0.1362 - val_loss: 1.6100 - val_accuracy: 0.1804 - lr: 0.0010\n",
      "Epoch 3/100\n",
      "181/181 [==============================] - 88s 483ms/step - loss: 1.6472 - accuracy: 0.1751 - val_loss: 1.5753 - val_accuracy: 0.2264 - lr: 0.0010\n",
      "Epoch 4/100\n",
      "181/181 [==============================] - 87s 480ms/step - loss: 1.6387 - accuracy: 0.1878 - val_loss: 1.6214 - val_accuracy: 0.2433 - lr: 0.0010\n",
      "Epoch 5/100\n",
      "181/181 [==============================] - 87s 482ms/step - loss: 1.6328 - accuracy: 0.1907 - val_loss: 1.6238 - val_accuracy: 0.2179 - lr: 0.0010\n",
      "Epoch 6/100\n",
      "181/181 [==============================] - 87s 482ms/step - loss: 1.6259 - accuracy: 0.1899 - val_loss: 1.6083 - val_accuracy: 0.2530 - lr: 0.0010\n",
      "Epoch 7/100\n",
      "181/181 [==============================] - 87s 481ms/step - loss: 1.5385 - accuracy: 0.2676 - val_loss: 46.5414 - val_accuracy: 0.3971 - lr: 0.0010\n",
      "Epoch 8/100\n",
      "181/181 [==============================] - 87s 481ms/step - loss: 1.4940 - accuracy: 0.2594 - val_loss: 1.6920 - val_accuracy: 0.3438 - lr: 0.0010\n",
      "Epoch 9/100\n",
      "181/181 [==============================] - 87s 481ms/step - loss: 1.3434 - accuracy: 0.3397 - val_loss: 1.5032 - val_accuracy: 0.3148 - lr: 0.0010\n",
      "Epoch 10/100\n",
      "181/181 [==============================] - 87s 480ms/step - loss: 1.2609 - accuracy: 0.3399 - val_loss: 2.5502 - val_accuracy: 0.4104 - lr: 0.0010\n",
      "Epoch 11/100\n",
      "181/181 [==============================] - 87s 481ms/step - loss: 1.1347 - accuracy: 0.4086 - val_loss: 4.7679 - val_accuracy: 0.4031 - lr: 0.0010\n",
      "Epoch 12/100\n",
      "181/181 [==============================] - 87s 481ms/step - loss: 1.1585 - accuracy: 0.3951 - val_loss: 1.6678 - val_accuracy: 0.3487 - lr: 0.0010\n",
      "Epoch 13/100\n",
      "181/181 [==============================] - 87s 481ms/step - loss: 1.0637 - accuracy: 0.4382 - val_loss: 1.5866 - val_accuracy: 0.2833 - lr: 0.0010\n",
      "Epoch 14/100\n",
      "181/181 [==============================] - 87s 481ms/step - loss: 0.9902 - accuracy: 0.4889 - val_loss: 2.2218 - val_accuracy: 0.2397 - lr: 0.0010\n",
      "Epoch 15/100\n",
      "181/181 [==============================] - 87s 481ms/step - loss: 0.9772 - accuracy: 0.4804 - val_loss: 1.3233 - val_accuracy: 0.4528 - lr: 0.0010\n",
      "Epoch 16/100\n",
      "181/181 [==============================] - 87s 481ms/step - loss: 0.9498 - accuracy: 0.4971 - val_loss: 4.0029 - val_accuracy: 0.1320 - lr: 0.0010\n",
      "Epoch 17/100\n",
      "181/181 [==============================] - 87s 480ms/step - loss: 0.9460 - accuracy: 0.5007 - val_loss: 2.7312 - val_accuracy: 0.4431 - lr: 0.0010\n",
      "Epoch 18/100\n",
      "181/181 [==============================] - 87s 481ms/step - loss: 0.8889 - accuracy: 0.5377 - val_loss: 1.1861 - val_accuracy: 0.5145 - lr: 0.0010\n",
      "Epoch 19/100\n",
      "181/181 [==============================] - 87s 481ms/step - loss: 0.9035 - accuracy: 0.5270 - val_loss: 1.0622 - val_accuracy: 0.5545 - lr: 0.0010\n",
      "Epoch 20/100\n",
      "181/181 [==============================] - 87s 482ms/step - loss: 0.8767 - accuracy: 0.5554 - val_loss: 1.9129 - val_accuracy: 0.3378 - lr: 0.0010\n",
      "Epoch 21/100\n",
      "181/181 [==============================] - 87s 481ms/step - loss: 0.8391 - accuracy: 0.5711 - val_loss: 1.8331 - val_accuracy: 0.4613 - lr: 0.0010\n",
      "Epoch 22/100\n",
      "181/181 [==============================] - 87s 481ms/step - loss: 0.8409 - accuracy: 0.5715 - val_loss: 1.3269 - val_accuracy: 0.5242 - lr: 0.0010\n",
      "Epoch 23/100\n",
      "181/181 [==============================] - 87s 480ms/step - loss: 0.8305 - accuracy: 0.5717 - val_loss: 1.5430 - val_accuracy: 0.4770 - lr: 0.0010\n",
      "Epoch 24/100\n",
      "181/181 [==============================] - 87s 481ms/step - loss: 0.8122 - accuracy: 0.5775 - val_loss: 1.2665 - val_accuracy: 0.5339 - lr: 0.0010\n",
      "Epoch 25/100\n",
      "181/181 [==============================] - 87s 482ms/step - loss: 0.8062 - accuracy: 0.5864 - val_loss: 1.1754 - val_accuracy: 0.5339 - lr: 0.0010\n",
      "Epoch 26/100\n",
      "181/181 [==============================] - 87s 480ms/step - loss: 0.7796 - accuracy: 0.5954 - val_loss: 1.2770 - val_accuracy: 0.4431 - lr: 0.0010\n",
      "Epoch 27/100\n",
      "181/181 [==============================] - 87s 481ms/step - loss: 0.8100 - accuracy: 0.5827 - val_loss: 1.0485 - val_accuracy: 0.5593 - lr: 0.0010\n",
      "Epoch 28/100\n",
      "181/181 [==============================] - 87s 480ms/step - loss: 0.7773 - accuracy: 0.5962 - val_loss: 1.0718 - val_accuracy: 0.5339 - lr: 0.0010\n",
      "Epoch 29/100\n",
      "181/181 [==============================] - 87s 480ms/step - loss: 0.7638 - accuracy: 0.6054 - val_loss: 1.8912 - val_accuracy: 0.4431 - lr: 0.0010\n",
      "Epoch 30/100\n",
      "181/181 [==============================] - 87s 481ms/step - loss: 0.7750 - accuracy: 0.6016 - val_loss: 1.2692 - val_accuracy: 0.4988 - lr: 0.0010\n",
      "Epoch 31/100\n",
      "181/181 [==============================] - 87s 480ms/step - loss: 0.7691 - accuracy: 0.5976 - val_loss: 1.1164 - val_accuracy: 0.5642 - lr: 0.0010\n",
      "Epoch 32/100\n",
      "181/181 [==============================] - 87s 481ms/step - loss: 0.7638 - accuracy: 0.5952 - val_loss: 1.2062 - val_accuracy: 0.5254 - lr: 0.0010\n",
      "Epoch 33/100\n",
      "181/181 [==============================] - 87s 481ms/step - loss: 0.7619 - accuracy: 0.6106 - val_loss: 1.2855 - val_accuracy: 0.5085 - lr: 0.0010\n",
      "Epoch 34/100\n",
      "181/181 [==============================] - 87s 481ms/step - loss: 0.7164 - accuracy: 0.6296 - val_loss: 0.9341 - val_accuracy: 0.6041 - lr: 1.0000e-04\n",
      "Epoch 35/100\n",
      "181/181 [==============================] - 87s 481ms/step - loss: 0.6764 - accuracy: 0.6478 - val_loss: 0.9678 - val_accuracy: 0.5763 - lr: 1.0000e-04\n",
      "Epoch 36/100\n",
      "181/181 [==============================] - 87s 481ms/step - loss: 0.6600 - accuracy: 0.6473 - val_loss: 0.9381 - val_accuracy: 0.5908 - lr: 1.0000e-04\n",
      "Epoch 37/100\n",
      "181/181 [==============================] - 87s 480ms/step - loss: 0.6560 - accuracy: 0.6501 - val_loss: 0.9378 - val_accuracy: 0.6041 - lr: 1.0000e-04\n",
      "Epoch 38/100\n",
      "181/181 [==============================] - 87s 481ms/step - loss: 0.6465 - accuracy: 0.6523 - val_loss: 0.9321 - val_accuracy: 0.5981 - lr: 1.0000e-04\n",
      "Epoch 39/100\n",
      "181/181 [==============================] - 87s 481ms/step - loss: 0.6405 - accuracy: 0.6573 - val_loss: 0.9215 - val_accuracy: 0.5896 - lr: 1.0000e-04\n",
      "Epoch 40/100\n",
      "181/181 [==============================] - 87s 481ms/step - loss: 0.6358 - accuracy: 0.6613 - val_loss: 0.9110 - val_accuracy: 0.6041 - lr: 1.0000e-04\n",
      "Epoch 41/100\n",
      "181/181 [==============================] - 87s 482ms/step - loss: 0.6329 - accuracy: 0.6497 - val_loss: 0.9225 - val_accuracy: 0.5811 - lr: 1.0000e-04\n",
      "Epoch 42/100\n",
      "181/181 [==============================] - 87s 481ms/step - loss: 0.6261 - accuracy: 0.6649 - val_loss: 0.9140 - val_accuracy: 0.6114 - lr: 1.0000e-04\n",
      "Epoch 43/100\n",
      "181/181 [==============================] - 87s 480ms/step - loss: 0.6225 - accuracy: 0.6596 - val_loss: 0.9243 - val_accuracy: 0.6102 - lr: 1.0000e-04\n",
      "Epoch 44/100\n",
      "181/181 [==============================] - 87s 481ms/step - loss: 0.6090 - accuracy: 0.6719 - val_loss: 0.9479 - val_accuracy: 0.5896 - lr: 1.0000e-04\n",
      "Epoch 45/100\n",
      "181/181 [==============================] - 87s 480ms/step - loss: 0.6217 - accuracy: 0.6677 - val_loss: 0.9556 - val_accuracy: 0.5763 - lr: 1.0000e-04\n",
      "Epoch 46/100\n",
      "181/181 [==============================] - 87s 480ms/step - loss: 0.6147 - accuracy: 0.6705 - val_loss: 0.9120 - val_accuracy: 0.5956 - lr: 1.0000e-04\n",
      "Epoch 47/100\n",
      "181/181 [==============================] - 87s 482ms/step - loss: 0.6146 - accuracy: 0.6691 - val_loss: 0.8990 - val_accuracy: 0.6150 - lr: 1.0000e-04\n",
      "Epoch 48/100\n",
      "181/181 [==============================] - 87s 480ms/step - loss: 0.6132 - accuracy: 0.6656 - val_loss: 0.9280 - val_accuracy: 0.6065 - lr: 1.0000e-04\n",
      "Epoch 49/100\n",
      "181/181 [==============================] - 87s 482ms/step - loss: 0.5990 - accuracy: 0.6734 - val_loss: 0.9204 - val_accuracy: 0.6065 - lr: 1.0000e-05\n",
      "Epoch 50/100\n",
      "181/181 [==============================] - 88s 482ms/step - loss: 0.5808 - accuracy: 0.6880 - val_loss: 0.9193 - val_accuracy: 0.6150 - lr: 1.0000e-05\n",
      "Epoch 51/100\n",
      "181/181 [==============================] - 87s 481ms/step - loss: 0.5996 - accuracy: 0.6745 - val_loss: 0.9087 - val_accuracy: 0.6077 - lr: 1.0000e-05\n",
      "Epoch 52/100\n",
      "181/181 [==============================] - 87s 480ms/step - loss: 0.5889 - accuracy: 0.6746 - val_loss: 0.9056 - val_accuracy: 0.6090 - lr: 1.0000e-05\n",
      "Epoch 53/100\n",
      "181/181 [==============================] - 87s 480ms/step - loss: 0.5871 - accuracy: 0.6776 - val_loss: 0.8970 - val_accuracy: 0.6138 - lr: 1.0000e-05\n",
      "Epoch 54/100\n",
      "181/181 [==============================] - 87s 481ms/step - loss: 0.5905 - accuracy: 0.6836 - val_loss: 0.9012 - val_accuracy: 0.6053 - lr: 1.0000e-05\n",
      "Epoch 55/100\n",
      "181/181 [==============================] - 87s 481ms/step - loss: 0.5888 - accuracy: 0.6769 - val_loss: 0.9013 - val_accuracy: 0.6005 - lr: 1.0000e-06\n"
     ]
    }
   ],
   "source": [
    "model_ft.compile(\n",
    "    optimizer=\"adam\", loss=\"categorical_crossentropy\", metrics=[\"accuracy\"]\n",
    ")\n",
    "\n",
    "start_ft = timeit.default_timer()\n",
    "\n",
    "history = model_ft.fit(\n",
    "    train_generator,\n",
    "    epochs=epochs,\n",
    "    batch_size=batch_size,\n",
    "    callbacks=[early, plateau],\n",
    "    validation_data=valid_generator,\n",
    "    class_weight=train_class_weights,\n",
    "    verbose=1,\n",
    ")\n",
    "\n",
    "stop_ft = timeit.default_timer()"
   ]
  },
  {
   "cell_type": "code",
   "execution_count": 72,
   "metadata": {},
   "outputs": [
    {
     "name": "stdout",
     "output_type": "stream",
     "text": [
      "Model ResNet50 fine tuning executed in 80.25 minutes\n"
     ]
    }
   ],
   "source": [
    "execution_time_ft = (stop_ft - start_ft) / 60\n",
    "print(\n",
    "    f\"Model {model_name} fine tuning executed in {execution_time_ft:.2f} minutes\"\n",
    ")"
   ]
  },
  {
   "cell_type": "code",
   "execution_count": 73,
   "metadata": {},
   "outputs": [],
   "source": [
    "model_ft.save(save_model_ft)"
   ]
  },
  {
   "cell_type": "code",
   "execution_count": 74,
   "metadata": {},
   "outputs": [
    {
     "data": {
      "image/png": "[encoded data removed]",
      "text/plain": [
       "<Figure size 640x480 with 2 Axes>"
      ]
     },
     "metadata": {},
     "output_type": "display_data"
    }
   ],
   "source": [
    "get_plot_loss_acc(model_ft, f\"{model_name} Fine Tuning\")"
   ]
  },
  {
   "cell_type": "code",
   "execution_count": 75,
   "metadata": {},
   "outputs": [
    {
     "name": "stdout",
     "output_type": "stream",
     "text": [
      "26/26 [==============================] - 4s 142ms/step - loss: 0.8990 - accuracy: 0.6150\n",
      "Valid loss: 0.90\n",
      "Valid accuracy: 0.62\n"
     ]
    }
   ],
   "source": [
    "get_evaluate(valid_generator, \"Valid\", model_ft)"
   ]
  },
  {
   "cell_type": "code",
   "execution_count": 76,
   "metadata": {},
   "outputs": [
    {
     "name": "stderr",
     "output_type": "stream",
     "text": [
      "2022-12-29 09:39:58.529091: I tensorflow/core/grappler/optimizers/custom_graph_optimizer_registry.cc:114] Plugin optimizer for device_type GPU is enabled.\n"
     ]
    },
    {
     "name": "stdout",
     "output_type": "stream",
     "text": [
      "26/26 [==============================] - 6s 177ms/step\n",
      "Accuracy Score - ResNet50: 0.62\n",
      "Balanced Accuracy Score - ResNet50: 0.65\n",
      "\n",
      "\n",
      "              precision    recall  f1-score   support\n",
      "\n",
      "           0       0.74      0.74      0.74       328\n",
      "           1       0.32      0.42      0.36       153\n",
      "           2       0.66      0.49      0.56       212\n",
      "           3       0.68      0.69      0.68       106\n",
      "           4       0.80      0.89      0.84        27\n",
      "\n",
      "    accuracy                           0.62       826\n",
      "   macro avg       0.64      0.65      0.64       826\n",
      "weighted avg       0.64      0.62      0.62       826\n",
      "\n"
     ]
    }
   ],
   "source": [
    "predict_model_ft = get_predict(valid_generator, model_ft)\n",
    "\n",
    "get_metrics(\n",
    "    valid_generator.labels,\n",
    "    y_pred=np.argmax(predict_model_ft, axis=1),\n",
    "    model_name=model_name,\n",
    ")"
   ]
  },
  {
   "cell_type": "code",
   "execution_count": 77,
   "metadata": {},
   "outputs": [
    {
     "data": {
      "image/png": "[encoded data removed]",
      "text/plain": [
       "<Figure size 600x500 with 2 Axes>"
      ]
     },
     "metadata": {},
     "output_type": "display_data"
    }
   ],
   "source": [
    "compute_confusion_matrix(\n",
    "    valid_generator, predict_model_ft, class_names, f\"{model_name} Fine Tuning\"\n",
    ")"
   ]
  }
 ],
 "metadata": {
  "kernelspec": {
   "display_name": "tf-m1pro",
   "language": "python",
   "name": "python3"
  },
  "language_info": {
   "codemirror_mode": {
    "name": "ipython",
    "version": 3
   },
   "file_extension": ".py",
   "mimetype": "text/x-python",
   "name": "python",
   "nbconvert_exporter": "python",
   "pygments_lexer": "ipython3",
   "version": "3.10.8"
  },
  "orig_nbformat": 4,
  "vscode": {
   "interpreter": {
    "hash": "001b8bc8317430c417f51a69a56c6a56085f077c2a95b1214783d5193c7f8f41"
   }
  }
 },
 "nbformat": 4,
 "nbformat_minor": 2
}
