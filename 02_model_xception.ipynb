{
 "cells": [
  {
   "attachments": {},
   "cell_type": "markdown",
   "metadata": {},
   "source": [
    "# 2. Model Train"
   ]
  },
  {
   "attachments": {},
   "cell_type": "markdown",
   "metadata": {},
   "source": [
    "## Model Xception"
   ]
  },
  {
   "cell_type": "markdown",
   "metadata": {},
   "source": [
    "### Import libraries"
   ]
  },
  {
   "cell_type": "code",
   "execution_count": 20,
   "metadata": {},
   "outputs": [],
   "source": [
    "import os\n",
    "import timeit\n",
    "\n",
    "import matplotlib.pyplot as plt\n",
    "import numpy as np\n",
    "import seaborn as sns\n",
    "import tensorflow as tf\n",
    "from sklearn.metrics import (accuracy_score, balanced_accuracy_score,\n",
    "                             classification_report, confusion_matrix)\n",
    "from sklearn.utils.class_weight import compute_class_weight"
   ]
  },
  {
   "cell_type": "code",
   "execution_count": 21,
   "metadata": {},
   "outputs": [],
   "source": [
    "np.random.seed(12049)"
   ]
  },
  {
   "cell_type": "code",
   "execution_count": 22,
   "metadata": {},
   "outputs": [],
   "source": [
    "def get_plot_loss_acc(model, model_name):\n",
    "    fig = plt.figure()\n",
    "    plt.subplot(2, 1, 1)\n",
    "    plt.plot(model.history.history[\"loss\"])\n",
    "    plt.plot(model.history.history[\"val_loss\"])\n",
    "    plt.title(f\"{model_name} \\n\\n model loss\")\n",
    "    plt.ylabel(\"loss\")\n",
    "    plt.xlabel(\"epoch\")\n",
    "    plt.legend([\"train\", \"valid\"], loc=\"upper right\")\n",
    "\n",
    "    plt.subplot(2, 1, 2)\n",
    "    plt.plot(model.history.history[\"accuracy\"])\n",
    "    plt.plot(model.history.history[\"val_accuracy\"])\n",
    "    plt.title(\"model accuracy\")\n",
    "    plt.ylabel(\"accuracy\")\n",
    "    plt.xlabel(\"epoch\")\n",
    "    plt.legend([\"train\", \"valid\"], loc=\"lower right\")\n",
    "\n",
    "    plt.tight_layout()\n",
    "\n",
    "\n",
    "def compute_confusion_matrix(\n",
    "    ytrue, ypred, class_names, model_name\n",
    "):\n",
    "    cm = confusion_matrix(\n",
    "        y_true=ytrue.labels,\n",
    "        y_pred=np.argmax(ypred, axis=1),\n",
    "    )\n",
    "\n",
    "    cmn = cm.astype(\"float\") / cm.sum(axis=1)[:, np.newaxis]\n",
    "    plt.subplots(figsize=(6, 5))\n",
    "    sns.heatmap(\n",
    "        cmn,\n",
    "        annot=True,\n",
    "        fmt=\".2f\",\n",
    "        cmap=\"Purples\",\n",
    "        xticklabels=class_names,\n",
    "        yticklabels=class_names,\n",
    "    )\n",
    "    plt.title(f\"Confusion Matrix - {model_name}\")\n",
    "    plt.ylabel(\"Actual\")\n",
    "    plt.xlabel(\"Predicted\")\n",
    "    plt.show(block=False)\n",
    "\n",
    "\n",
    "def get_evaluate(data, name, model):\n",
    "    score_model = model.evaluate(data, verbose=1)\n",
    "    print(f\"{name} loss: {score_model[0]:.2f}\")\n",
    "    print(f\"{name} accuracy: {score_model[1]:.2f}\")\n",
    "\n",
    "\n",
    "def get_predict(data, model):\n",
    "    predict_model = model.predict(data)\n",
    "    return predict_model\n",
    "\n",
    "\n",
    "def get_metrics(y_test, y_pred, model_name):\n",
    "    acc = accuracy_score(y_test, y_pred)\n",
    "    bal_acc = balanced_accuracy_score(y_test, y_pred)\n",
    "\n",
    "    print(f\"Accuracy Score - {model_name}: {acc:.2f}\")\n",
    "    print(f\"Balanced Accuracy Score - {model_name}: {bal_acc:.2f}\")\n",
    "    print(\"\\n\")\n",
    "\n",
    "    print(classification_report(y_test, y_pred))"
   ]
  },
  {
   "cell_type": "markdown",
   "metadata": {},
   "source": [
    "### Load data"
   ]
  },
  {
   "cell_type": "code",
   "execution_count": 23,
   "metadata": {},
   "outputs": [],
   "source": [
    "base_dir = \"../dataset/\"\n",
    "train_path = os.path.join(base_dir, 'train')\n",
    "valid_path = os.path.join(base_dir, 'val')\n",
    "test_path = os.path.join(base_dir, 'test')"
   ]
  },
  {
   "attachments": {},
   "cell_type": "markdown",
   "metadata": {},
   "source": [
    "### Definitions"
   ]
  },
  {
   "cell_type": "code",
   "execution_count": 24,
   "metadata": {},
   "outputs": [],
   "source": [
    "model_name = \"Xception\"\n",
    "class_names = ['Healthy', 'Doubtful', 'Minimal', 'Moderate', 'Severe']\n",
    "\n",
    "target_size = (224, 224)\n",
    "epochs = 100\n",
    "batch_size = 256\n",
    "img_shape = (224, 224, 3)\n",
    "\n",
    "# Save model\n",
    "save_model_ft = os.path.join('models', f'model_{model_name}_ft.hdf5')"
   ]
  },
  {
   "cell_type": "markdown",
   "metadata": {},
   "source": [
    "### Image data generator"
   ]
  },
  {
   "cell_type": "code",
   "execution_count": 25,
   "metadata": {},
   "outputs": [],
   "source": [
    "aug_datagen = tf.keras.preprocessing.image.ImageDataGenerator(\n",
    "    preprocessing_function=tf.keras.applications.xception.preprocess_input,\n",
    "    horizontal_flip=True,\n",
    "    brightness_range=[0.3, 0.8],\n",
    "    width_shift_range=[-50, 0, 50, 30, -30],\n",
    "    zoom_range=0.1,\n",
    "    fill_mode=\"nearest\",\n",
    ")\n",
    "\n",
    "noaug_datagen = tf.keras.preprocessing.image.ImageDataGenerator(\n",
    "    preprocessing_function=tf.keras.applications.xception.preprocess_input,\n",
    ")"
   ]
  },
  {
   "cell_type": "code",
   "execution_count": 26,
   "metadata": {},
   "outputs": [
    {
     "name": "stdout",
     "output_type": "stream",
     "text": [
      "Found 5778 images belonging to 5 classes.\n",
      "Found 826 images belonging to 5 classes.\n"
     ]
    }
   ],
   "source": [
    "train_generator = aug_datagen.flow_from_directory(\n",
    "    train_path, class_mode=\"categorical\", target_size=target_size, shuffle=True\n",
    ")\n",
    "\n",
    "valid_generator = noaug_datagen.flow_from_directory(\n",
    "    valid_path,\n",
    "    class_mode=\"categorical\",\n",
    "    target_size=target_size,\n",
    "    shuffle=False,\n",
    ")"
   ]
  },
  {
   "cell_type": "code",
   "execution_count": 27,
   "metadata": {},
   "outputs": [],
   "source": [
    "y_train = train_generator.labels\n",
    "y_val = valid_generator.labels"
   ]
  },
  {
   "attachments": {},
   "cell_type": "markdown",
   "metadata": {},
   "source": [
    "### Weight data"
   ]
  },
  {
   "cell_type": "code",
   "execution_count": 28,
   "metadata": {},
   "outputs": [
    {
     "name": "stdout",
     "output_type": "stream",
     "text": [
      "Train:  {0: 2286, 1: 1046, 2: 1516, 3: 757, 4: 173}\n",
      "{0: 0.5055118110236221, 1: 1.1047801147227534, 2: 0.7622691292875989, 3: 1.5265521796565389, 4: 6.679768786127168}\n"
     ]
    }
   ],
   "source": [
    "unique, counts = np.unique(y_train, return_counts=True)\n",
    "print(\"Train: \", dict(zip(unique, counts)))\n",
    "\n",
    "class_weights = compute_class_weight(\n",
    "    class_weight=\"balanced\", classes=np.unique(y_train), y=y_train\n",
    ")\n",
    "train_class_weights = dict(enumerate(class_weights))\n",
    "print(train_class_weights)"
   ]
  },
  {
   "cell_type": "markdown",
   "metadata": {},
   "source": [
    "### Train data"
   ]
  },
  {
   "cell_type": "code",
   "execution_count": 29,
   "metadata": {},
   "outputs": [],
   "source": [
    "classes = np.unique(y_train)\n",
    "\n",
    "# Callbacks\n",
    "early = tf.keras.callbacks.EarlyStopping(\n",
    "            monitor='val_loss', min_delta=0.01, patience=8,\n",
    "            restore_best_weights=True\n",
    "        )\n",
    "plateau = tf.keras.callbacks.ReduceLROnPlateau(\n",
    "                monitor='loss', factor=0.1, min_delta=0.01, \n",
    "                min_lr=1e-10, patience=4, mode='auto'\n",
    "            )"
   ]
  },
  {
   "cell_type": "code",
   "execution_count": 30,
   "metadata": {},
   "outputs": [],
   "source": [
    "model = tf.keras.applications.xception.Xception(\n",
    "    input_shape=(img_shape),\n",
    "    include_top=False,\n",
    "    weights=\"imagenet\",\n",
    ")"
   ]
  },
  {
   "cell_type": "markdown",
   "metadata": {},
   "source": [
    "### Fine-tuning"
   ]
  },
  {
   "cell_type": "code",
   "execution_count": 31,
   "metadata": {},
   "outputs": [
    {
     "name": "stdout",
     "output_type": "stream",
     "text": [
      "Model: \"sequential_1\"\n",
      "_________________________________________________________________\n",
      " Layer (type)                Output Shape              Param #   \n",
      "=================================================================\n",
      " xception (Functional)       (None, 7, 7, 2048)        20861480  \n",
      "                                                                 \n",
      " global_average_pooling2d_1   (None, 2048)             0         \n",
      " (GlobalAveragePooling2D)                                        \n",
      "                                                                 \n",
      " dropout_1 (Dropout)         (None, 2048)              0         \n",
      "                                                                 \n",
      " dense_1 (Dense)             (None, 5)                 10245     \n",
      "                                                                 \n",
      "=================================================================\n",
      "Total params: 20,871,725\n",
      "Trainable params: 20,817,197\n",
      "Non-trainable params: 54,528\n",
      "_________________________________________________________________\n"
     ]
    }
   ],
   "source": [
    "for layer in model.layers:\n",
    "    layer.trainable = True\n",
    "\n",
    "model_ft = tf.keras.models.Sequential(\n",
    "    [\n",
    "        model,\n",
    "        tf.keras.layers.GlobalAveragePooling2D(),\n",
    "        tf.keras.layers.Dropout(0.2),\n",
    "        tf.keras.layers.Dense(5, activation=\"softmax\"),\n",
    "    ]\n",
    ")\n",
    "\n",
    "model_ft.summary()"
   ]
  },
  {
   "cell_type": "code",
   "execution_count": 32,
   "metadata": {},
   "outputs": [
    {
     "name": "stdout",
     "output_type": "stream",
     "text": [
      "Epoch 1/100\n"
     ]
    },
    {
     "name": "stderr",
     "output_type": "stream",
     "text": [
      "2022-12-29 10:19:05.694184: I tensorflow/core/grappler/optimizers/custom_graph_optimizer_registry.cc:114] Plugin optimizer for device_type GPU is enabled.\n"
     ]
    },
    {
     "name": "stdout",
     "output_type": "stream",
     "text": [
      "181/181 [==============================] - ETA: 0s - loss: 1.4230 - accuracy: 0.2987"
     ]
    },
    {
     "name": "stderr",
     "output_type": "stream",
     "text": [
      "2022-12-29 10:21:32.938264: I tensorflow/core/grappler/optimizers/custom_graph_optimizer_registry.cc:114] Plugin optimizer for device_type GPU is enabled.\n"
     ]
    },
    {
     "name": "stdout",
     "output_type": "stream",
     "text": [
      "181/181 [==============================] - 155s 792ms/step - loss: 1.4230 - accuracy: 0.2987 - val_loss: 7.1437 - val_accuracy: 0.4262 - lr: 0.0010\n",
      "Epoch 2/100\n",
      "181/181 [==============================] - 142s 782ms/step - loss: 1.1150 - accuracy: 0.4372 - val_loss: 1.6840 - val_accuracy: 0.2591 - lr: 0.0010\n",
      "Epoch 3/100\n",
      "181/181 [==============================] - 142s 782ms/step - loss: 0.9731 - accuracy: 0.4991 - val_loss: 1.2796 - val_accuracy: 0.5012 - lr: 0.0010\n",
      "Epoch 4/100\n",
      "181/181 [==============================] - 142s 781ms/step - loss: 0.8500 - accuracy: 0.5597 - val_loss: 3.3110 - val_accuracy: 0.2034 - lr: 0.0010\n",
      "Epoch 5/100\n",
      "181/181 [==============================] - 142s 781ms/step - loss: 0.8159 - accuracy: 0.5812 - val_loss: 1.1928 - val_accuracy: 0.5000 - lr: 0.0010\n",
      "Epoch 6/100\n",
      "181/181 [==============================] - 142s 782ms/step - loss: 0.8010 - accuracy: 0.5943 - val_loss: 1.2585 - val_accuracy: 0.4976 - lr: 0.0010\n",
      "Epoch 7/100\n",
      "181/181 [==============================] - 142s 781ms/step - loss: 0.7720 - accuracy: 0.6011 - val_loss: 1.1238 - val_accuracy: 0.5569 - lr: 0.0010\n",
      "Epoch 8/100\n",
      "181/181 [==============================] - 142s 782ms/step - loss: 0.7432 - accuracy: 0.6078 - val_loss: 1.3359 - val_accuracy: 0.4625 - lr: 0.0010\n",
      "Epoch 9/100\n",
      "181/181 [==============================] - 142s 782ms/step - loss: 0.7177 - accuracy: 0.6210 - val_loss: 1.2344 - val_accuracy: 0.4637 - lr: 0.0010\n",
      "Epoch 10/100\n",
      "181/181 [==============================] - 142s 783ms/step - loss: 0.6685 - accuracy: 0.6450 - val_loss: 1.0156 - val_accuracy: 0.5545 - lr: 0.0010\n",
      "Epoch 11/100\n",
      "181/181 [==============================] - 142s 782ms/step - loss: 0.6995 - accuracy: 0.6357 - val_loss: 1.0962 - val_accuracy: 0.5472 - lr: 0.0010\n",
      "Epoch 12/100\n",
      "181/181 [==============================] - 142s 781ms/step - loss: 0.6433 - accuracy: 0.6462 - val_loss: 1.0798 - val_accuracy: 0.5654 - lr: 0.0010\n",
      "Epoch 13/100\n",
      "181/181 [==============================] - 142s 781ms/step - loss: 0.6595 - accuracy: 0.6494 - val_loss: 1.5282 - val_accuracy: 0.4007 - lr: 0.0010\n",
      "Epoch 14/100\n",
      "181/181 [==============================] - 142s 781ms/step - loss: 0.6554 - accuracy: 0.6542 - val_loss: 1.1682 - val_accuracy: 0.5654 - lr: 0.0010\n",
      "Epoch 15/100\n",
      "181/181 [==============================] - 142s 782ms/step - loss: 0.6133 - accuracy: 0.6715 - val_loss: 1.0962 - val_accuracy: 0.5787 - lr: 0.0010\n",
      "Epoch 16/100\n",
      "181/181 [==============================] - 142s 781ms/step - loss: 0.6067 - accuracy: 0.6729 - val_loss: 1.4882 - val_accuracy: 0.5169 - lr: 0.0010\n",
      "Epoch 17/100\n",
      "181/181 [==============================] - 141s 780ms/step - loss: 0.6134 - accuracy: 0.6755 - val_loss: 0.9645 - val_accuracy: 0.5920 - lr: 0.0010\n",
      "Epoch 18/100\n",
      "181/181 [==============================] - 141s 780ms/step - loss: 0.5975 - accuracy: 0.6840 - val_loss: 1.0646 - val_accuracy: 0.5993 - lr: 0.0010\n",
      "Epoch 19/100\n",
      "181/181 [==============================] - 142s 782ms/step - loss: 0.5889 - accuracy: 0.6824 - val_loss: 1.0225 - val_accuracy: 0.5654 - lr: 0.0010\n",
      "Epoch 20/100\n",
      "181/181 [==============================] - 142s 782ms/step - loss: 0.5872 - accuracy: 0.6947 - val_loss: 1.0675 - val_accuracy: 0.4952 - lr: 0.0010\n",
      "Epoch 21/100\n",
      "181/181 [==============================] - 142s 781ms/step - loss: 0.5491 - accuracy: 0.6994 - val_loss: 0.9326 - val_accuracy: 0.5944 - lr: 0.0010\n",
      "Epoch 22/100\n",
      "181/181 [==============================] - 142s 782ms/step - loss: 0.5879 - accuracy: 0.6822 - val_loss: 1.0593 - val_accuracy: 0.5738 - lr: 0.0010\n",
      "Epoch 23/100\n",
      "181/181 [==============================] - 142s 782ms/step - loss: 0.5194 - accuracy: 0.7182 - val_loss: 1.2200 - val_accuracy: 0.4927 - lr: 0.0010\n",
      "Epoch 24/100\n",
      "181/181 [==============================] - 142s 782ms/step - loss: 0.5173 - accuracy: 0.7096 - val_loss: 0.9993 - val_accuracy: 0.5884 - lr: 0.0010\n",
      "Epoch 25/100\n",
      "181/181 [==============================] - 142s 782ms/step - loss: 0.5209 - accuracy: 0.7085 - val_loss: 1.1783 - val_accuracy: 0.5690 - lr: 0.0010\n",
      "Epoch 26/100\n",
      "181/181 [==============================] - 142s 782ms/step - loss: 0.5217 - accuracy: 0.7179 - val_loss: 0.9800 - val_accuracy: 0.5799 - lr: 0.0010\n",
      "Epoch 27/100\n",
      "181/181 [==============================] - 142s 783ms/step - loss: 0.4866 - accuracy: 0.7283 - val_loss: 1.1290 - val_accuracy: 0.5847 - lr: 0.0010\n",
      "Epoch 28/100\n",
      "181/181 [==============================] - 142s 781ms/step - loss: 0.5176 - accuracy: 0.7227 - val_loss: 1.1098 - val_accuracy: 0.5738 - lr: 0.0010\n",
      "Epoch 29/100\n",
      "181/181 [==============================] - 142s 783ms/step - loss: 0.4859 - accuracy: 0.7411 - val_loss: 1.1585 - val_accuracy: 0.5387 - lr: 0.0010\n"
     ]
    }
   ],
   "source": [
    "model_ft.compile(\n",
    "    optimizer=\"adam\", loss=\"categorical_crossentropy\", metrics=[\"accuracy\"]\n",
    ")\n",
    "\n",
    "start_ft = timeit.default_timer()\n",
    "\n",
    "history = model_ft.fit(\n",
    "    train_generator,\n",
    "    epochs=epochs,\n",
    "    batch_size=batch_size,\n",
    "    callbacks=[early, plateau],\n",
    "    validation_data=valid_generator,\n",
    "    class_weight=train_class_weights,\n",
    "    verbose=1,\n",
    ")\n",
    "\n",
    "stop_ft = timeit.default_timer()"
   ]
  },
  {
   "cell_type": "code",
   "execution_count": 33,
   "metadata": {},
   "outputs": [
    {
     "name": "stdout",
     "output_type": "stream",
     "text": [
      "Model Xception fine tuning executed in 68.72 minutes\n"
     ]
    }
   ],
   "source": [
    "execution_time_ft = (stop_ft - start_ft) / 60\n",
    "print(\n",
    "    f\"Model {model_name} fine tuning executed in {execution_time_ft:.2f} minutes\"\n",
    ")"
   ]
  },
  {
   "cell_type": "code",
   "execution_count": 34,
   "metadata": {},
   "outputs": [],
   "source": [
    "model_ft.save(save_model_ft)"
   ]
  },
  {
   "cell_type": "code",
   "execution_count": 35,
   "metadata": {},
   "outputs": [
    {
     "data": {
      "image/png": "[encoded data removed]",
      "text/plain": [
       "<Figure size 640x480 with 2 Axes>"
      ]
     },
     "metadata": {},
     "output_type": "display_data"
    }
   ],
   "source": [
    "get_plot_loss_acc(model_ft, f\"{model_name} Fine Tuning\")"
   ]
  },
  {
   "cell_type": "code",
   "execution_count": 36,
   "metadata": {},
   "outputs": [
    {
     "name": "stdout",
     "output_type": "stream",
     "text": [
      "26/26 [==============================] - 6s 231ms/step - loss: 0.9326 - accuracy: 0.5944\n",
      "Valid loss: 0.93\n",
      "Valid accuracy: 0.59\n"
     ]
    }
   ],
   "source": [
    "get_evaluate(valid_generator, \"Valid\", model_ft)"
   ]
  },
  {
   "cell_type": "code",
   "execution_count": 37,
   "metadata": {},
   "outputs": [
    {
     "name": "stderr",
     "output_type": "stream",
     "text": [
      "2022-12-29 11:27:54.518048: I tensorflow/core/grappler/optimizers/custom_graph_optimizer_registry.cc:114] Plugin optimizer for device_type GPU is enabled.\n"
     ]
    },
    {
     "name": "stdout",
     "output_type": "stream",
     "text": [
      "26/26 [==============================] - 7s 240ms/step\n",
      "Accuracy Score - Xception: 0.59\n",
      "Balanced Accuracy Score - Xception: 0.67\n",
      "\n",
      "\n",
      "              precision    recall  f1-score   support\n",
      "\n",
      "           0       0.79      0.53      0.63       328\n",
      "           1       0.32      0.49      0.38       153\n",
      "           2       0.63      0.69      0.66       212\n",
      "           3       0.73      0.65      0.69       106\n",
      "           4       0.65      0.96      0.78        27\n",
      "\n",
      "    accuracy                           0.59       826\n",
      "   macro avg       0.62      0.67      0.63       826\n",
      "weighted avg       0.65      0.59      0.61       826\n",
      "\n"
     ]
    }
   ],
   "source": [
    "predict_model_ft = get_predict(valid_generator, model_ft)\n",
    "\n",
    "get_metrics(\n",
    "    valid_generator.labels,\n",
    "    y_pred=np.argmax(predict_model_ft, axis=1),\n",
    "    model_name=model_name,\n",
    ")"
   ]
  },
  {
   "cell_type": "code",
   "execution_count": 38,
   "metadata": {},
   "outputs": [
    {
     "data": {
      "image/png": "[encoded data removed]",
      "text/plain": [
       "<Figure size 600x500 with 2 Axes>"
      ]
     },
     "metadata": {},
     "output_type": "display_data"
    }
   ],
   "source": [
    "compute_confusion_matrix(\n",
    "    valid_generator, predict_model_ft, class_names, f\"{model_name} Fine Tuning\"\n",
    ")"
   ]
  }
 ],
 "metadata": {
  "kernelspec": {
   "display_name": "tf-m1pro",
   "language": "python",
   "name": "python3"
  },
  "language_info": {
   "codemirror_mode": {
    "name": "ipython",
    "version": 3
   },
   "file_extension": ".py",
   "mimetype": "text/x-python",
   "name": "python",
   "nbconvert_exporter": "python",
   "pygments_lexer": "ipython3",
   "version": "3.10.8"
  },
  "orig_nbformat": 4,
  "vscode": {
   "interpreter": {
    "hash": "001b8bc8317430c417f51a69a56c6a56085f077c2a95b1214783d5193c7f8f41"
   }
  }
 },
 "nbformat": 4,
 "nbformat_minor": 2
}
